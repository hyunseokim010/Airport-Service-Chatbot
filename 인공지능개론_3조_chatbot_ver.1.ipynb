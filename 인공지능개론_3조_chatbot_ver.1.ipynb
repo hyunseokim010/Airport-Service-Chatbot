{
 "cells": [
  {
   "cell_type": "code",
   "execution_count": 1,
   "metadata": {},
   "outputs": [],
   "source": [
    "import csv\n",
    "import pandas as pd\n",
    "\n",
    "with open('covid19_test.csv', 'r') as csv_file:     # 코로나19 검사현황 csv 파일 read하고 리스트 속 리스트로 생성\n",
    "    csv_reader = csv.reader(csv_file)\n",
    "    covid19_list = []\n",
    "    for line in csv_reader:\n",
    "        covid19_list.append(line)\n",
    "\n",
    "\n",
    "with open('walking_time.csv', 'r') as csv_file:     # 출국장 도보소요시간 csv 파일 read하고 리스트 속 리스트로 생성\n",
    "    csv_reader = csv.reader(csv_file)\n",
    "    walking_time_list = []\n",
    "    for line in csv_reader:\n",
    "        walking_time_list.append(line)"
   ]
  },
  {
   "cell_type": "code",
   "execution_count": 2,
   "metadata": {},
   "outputs": [],
   "source": [
    "def menu():     # 서비스 메뉴 함수 생성\n",
    "    while True:\n",
    "        print('에어봇 : [서비스 메뉴]\\n\\\n",
    "\\t① 인천국제공항의 코로나19 검사센터 현황 알아보기\\n\\\n",
    "\\t② 출국장 도보소요시간을 알아보기\\n\\\n",
    "\\t③ 나가기\\n\\t원하시는 서비스를 입력해주세요.')\n",
    "\n",
    "        user = input('여객 : ')      # 챗봇 사용자(여객)가 궁금한 질문 또는 원하는 서비스 입력\n",
    "        \n",
    "        if user in ['Q', 'q','Quit', 'quit', '나가기', '종료', '3']:    # 챗봇 사용자가 서비스 종료를 원할 경우\n",
    "            print('에어봇: 상담을 종료합니다. 이용해주셔서 감사합니다.')\n",
    "            break       # 챗봇 서비스 종료\n",
    "        \n",
    "        elif user == '안녕':     # 챗봇 사용자가 챗봇에게 인사를 할 경우\n",
    "            print('에어봇: 반갑습니다! 무엇을 도와드릴까요? ')\n",
    "\n",
    "        elif user == '1':        # 챗봇 사용자가 코로나19 검사센터 현황에 대해 알고 싶을 경우\n",
    "            print('코로나19 검사센터 현황 테이블로 제공')\n",
    "\n",
    "        elif user == '2':        # 챗봇 사용자가 출국장 도보소요시간에 대해 알고 싶을 경우\n",
    "            print('출국장 도보소요시간 테이블로 제공')\n",
    "\n",
    "        else:                    # 챗봇 사용자가 데이터 외의 내용에 대해 문의할 경우\n",
    "            print('에어봇 : 죄송합니다. 무슨 말인지 모르겠어요.')\n",
    "\n",
    "        return menu()            # (재귀함수 생성) 다시 서비스 메뉴로 이동"
   ]
  },
  {
   "cell_type": "code",
   "execution_count": 3,
   "metadata": {},
   "outputs": [
    {
     "name": "stdout",
     "output_type": "stream",
     "text": [
      "에어봇 : 반갑습니다. 여객 안내를 담당하고 있는 '에어봇' 입니다.\n",
      "에어봇 : [서비스 메뉴]\n",
      "\t① 인천국제공항의 코로나19 검사센터 현황 알아보기\n",
      "\t② 출국장 도보소요시간을 알아보기\n",
      "\t③ 나가기\n",
      "\t원하시는 서비스를 입력해주세요.\n",
      "여객 : 1\n",
      "코로나19 검사센터 현황 테이블로 제공\n",
      "에어봇 : [서비스 메뉴]\n",
      "\t① 인천국제공항의 코로나19 검사센터 현황 알아보기\n",
      "\t② 출국장 도보소요시간을 알아보기\n",
      "\t③ 나가기\n",
      "\t원하시는 서비스를 입력해주세요.\n",
      "여객 : 2\n",
      "출국장 도보소요시간 테이블로 제공\n",
      "에어봇 : [서비스 메뉴]\n",
      "\t① 인천국제공항의 코로나19 검사센터 현황 알아보기\n",
      "\t② 출국장 도보소요시간을 알아보기\n",
      "\t③ 나가기\n",
      "\t원하시는 서비스를 입력해주세요.\n",
      "여객 : 3\n",
      "에어봇: 상담을 종료합니다. 이용해주셔서 감사합니다.\n"
     ]
    }
   ],
   "source": [
    "print(\"에어봇 : 반갑습니다. 여객 안내를 담당하고 있는 '에어봇' 입니다.\")\n",
    "menu()"
   ]
  }
 ],
 "metadata": {
  "kernelspec": {
   "display_name": "Python 3",
   "language": "python",
   "name": "python3"
  },
  "language_info": {
   "codemirror_mode": {
    "name": "ipython",
    "version": 3
   },
   "file_extension": ".py",
   "mimetype": "text/x-python",
   "name": "python",
   "nbconvert_exporter": "python",
   "pygments_lexer": "ipython3",
   "version": "3.8.5"
  }
 },
 "nbformat": 4,
 "nbformat_minor": 4
}
