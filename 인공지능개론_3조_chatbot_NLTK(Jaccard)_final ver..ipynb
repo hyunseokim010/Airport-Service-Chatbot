{
 "cells": [
  {
   "cell_type": "code",
   "execution_count": 1,
   "metadata": {},
   "outputs": [
    {
     "name": "stderr",
     "output_type": "stream",
     "text": [
      "[nltk_data] Downloading package words to\n",
      "[nltk_data]     C:\\Users\\Hyunseo\\AppData\\Roaming\\nltk_data...\n",
      "[nltk_data]   Package words is already up-to-date!\n"
     ]
    }
   ],
   "source": [
    "import nltk\n",
    "nltk.download('words')\n",
    "\n",
    "from nltk.corpus import words\n",
    "\n",
    "spelling_correction = words.words()\n",
    "\n",
    "\n",
    "from nltk.metrics.distance import jaccard_distance\n",
    "from nltk.util import ngrams\n",
    "from nltk.metrics.distance  import edit_distance"
   ]
  },
  {
   "cell_type": "code",
   "execution_count": 2,
   "metadata": {},
   "outputs": [
    {
     "name": "stdout",
     "output_type": "stream",
     "text": [
      "<챗봇 사용자의 오타 수정 ver.1>\n",
      "millage\n",
      "trance\n",
      "airfoil\n",
      "passport\n"
     ]
    }
   ],
   "source": [
    "airport_terminology_example = ['milage', 'trancit', 'airfort', 'pessport']\n",
    "\n",
    "print('<챗봇 사용자의 오타 수정 ver.1>')\n",
    "\n",
    "for t in airport_terminology_example:\n",
    "    equation = [(jaccard_distance(set(ngrams(t, 2)), set(ngrams(w, 2))),w) for w in spelling_correction if w[0] == t[0]]\n",
    "    print(sorted(equation, key = lambda val:val[0])[0][1])"
   ]
  },
  {
   "cell_type": "code",
   "execution_count": 3,
   "metadata": {},
   "outputs": [
    {
     "name": "stdout",
     "output_type": "stream",
     "text": [
      "<챗봇 사용자의 오타 수정 ver.2>\n",
      "mileage\n",
      "transit\n",
      "airport\n",
      "passport\n"
     ]
    }
   ],
   "source": [
    "print('<챗봇 사용자의 오타 수정 ver.2>')\n",
    "\n",
    "for t in airport_terminology_example:\n",
    "    equation = [(edit_distance(t, w),w) for w in spelling_correction if w[0] == t[0]]\n",
    "    print(sorted(equation, key = lambda val:val[0])[0][1])"
   ]
  }
 ],
 "metadata": {
  "kernelspec": {
   "display_name": "Python 3",
   "language": "python",
   "name": "python3"
  },
  "language_info": {
   "codemirror_mode": {
    "name": "ipython",
    "version": 3
   },
   "file_extension": ".py",
   "mimetype": "text/x-python",
   "name": "python",
   "nbconvert_exporter": "python",
   "pygments_lexer": "ipython3",
   "version": "3.8.5"
  }
 },
 "nbformat": 4,
 "nbformat_minor": 4
}
