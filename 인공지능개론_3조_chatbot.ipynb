{
 "cells": [
  {
   "cell_type": "code",
   "execution_count": 1,
   "metadata": {},
   "outputs": [],
   "source": [
    "import csv\n",
    "\n",
    "def menu():\n",
    "    while True:\n",
    "        print('에어봇 : [서비스 메뉴]\\n\\\n",
    "         (1) 인천국제공항의 코로나19 검사센터 현황 알아보기 (Press: 1)\\n\\\n",
    "         (2) 출국장 도보소요시간을 알아보기 (Press: 2)\\n\\\n",
    "         (3) 나가기 (Press: Q)\\n         원하시는 서비스를 입력해주세요.')\n",
    "\n",
    "        passenger = input('여객 : ')\n",
    "        \n",
    "        if passenger in ['Q', 'q','Quit', 'quit', '나가기', '종료', '3']:\n",
    "            print('에어봇: 상담을 종료합니다. 이용해주셔서 감사합니다.')\n",
    "            break\n",
    "        \n",
    "        elif passenger == '안녕':\n",
    "            print('에어봇: 반갑습니다! 무엇을 도와드릴까요? ')\n",
    "\n",
    "        elif passenger == '1':\n",
    "            covid19()\n",
    "            print('1')\n",
    "\n",
    "        elif passenger == '2':\n",
    "            walking_time()\n",
    "            print('2')\n",
    "\n",
    "        else:\n",
    "            print('에어봇 : 죄송합니다. 무슨 말인지 모르겠어요.')\n",
    "\n",
    "        return menu()"
   ]
  },
  {
   "cell_type": "code",
   "execution_count": 2,
   "metadata": {},
   "outputs": [],
   "source": [
    "def covid19():\n",
    "    with open('covid19_test.csv', 'r') as csv_file:\n",
    "        csv_reader = csv.reader(csv_file)\n",
    "\n",
    "        covid19_list = []\n",
    "        \n",
    "        for line in csv_reader:\n",
    "            covid19_list.append(line)\n",
    "\n",
    "    print('11')"
   ]
  },
  {
   "cell_type": "code",
   "execution_count": 4,
   "metadata": {},
   "outputs": [],
   "source": [
    "def walking_time():\n",
    "    with open('walking_time.csv', 'r') as csv_file:\n",
    "        csv_reader = csv.reader(csv_file)\n",
    "\n",
    "        walking_time_list = []\n",
    "        \n",
    "        for line in csv_reader:\n",
    "            walking_time_list.append(line)\n",
    "\n",
    "    print('22')"
   ]
  },
  {
   "cell_type": "code",
   "execution_count": 5,
   "metadata": {},
   "outputs": [
    {
     "name": "stdout",
     "output_type": "stream",
     "text": [
      "에어봇 : 반갑습니다. 여객 안내를 담당하고 있는 '에어봇' 입니다.\n",
      "에어봇 : [서비스 메뉴]\n",
      "         (1) 인천국제공항의 코로나19 검사센터 현황 알아보기 (Press: 1)\n",
      "         (2) 출국장 도보소요시간을 알아보기 (Press: 2)\n",
      "         (3) 나가기 (Press: Q)\n",
      "         원하시는 서비스를 입력해주세요.\n",
      "여객 : 1\n"
     ]
    },
    {
     "ename": "FileNotFoundError",
     "evalue": "[Errno 2] No such file or directory: 'covid19_test.csv'",
     "output_type": "error",
     "traceback": [
      "\u001b[1;31m---------------------------------------------------------------------------\u001b[0m",
      "\u001b[1;31mFileNotFoundError\u001b[0m                         Traceback (most recent call last)",
      "\u001b[1;32m<ipython-input-5-5f62ce96ca7c>\u001b[0m in \u001b[0;36m<module>\u001b[1;34m\u001b[0m\n\u001b[0;32m      1\u001b[0m \u001b[0mprint\u001b[0m\u001b[1;33m(\u001b[0m\u001b[1;34m\"에어봇 : 반갑습니다. 여객 안내를 담당하고 있는 '에어봇' 입니다.\"\u001b[0m\u001b[1;33m)\u001b[0m\u001b[1;33m\u001b[0m\u001b[1;33m\u001b[0m\u001b[0m\n\u001b[1;32m----> 2\u001b[1;33m \u001b[0mmenu\u001b[0m\u001b[1;33m(\u001b[0m\u001b[1;33m)\u001b[0m\u001b[1;33m\u001b[0m\u001b[1;33m\u001b[0m\u001b[0m\n\u001b[0m",
      "\u001b[1;32m<ipython-input-1-e834b8b55f76>\u001b[0m in \u001b[0;36mmenu\u001b[1;34m()\u001b[0m\n\u001b[0;32m     18\u001b[0m \u001b[1;33m\u001b[0m\u001b[0m\n\u001b[0;32m     19\u001b[0m         \u001b[1;32melif\u001b[0m \u001b[0mpassenger\u001b[0m \u001b[1;33m==\u001b[0m \u001b[1;34m'1'\u001b[0m\u001b[1;33m:\u001b[0m\u001b[1;33m\u001b[0m\u001b[1;33m\u001b[0m\u001b[0m\n\u001b[1;32m---> 20\u001b[1;33m             \u001b[0mcovid19\u001b[0m\u001b[1;33m(\u001b[0m\u001b[1;33m)\u001b[0m\u001b[1;33m\u001b[0m\u001b[1;33m\u001b[0m\u001b[0m\n\u001b[0m\u001b[0;32m     21\u001b[0m             \u001b[0mprint\u001b[0m\u001b[1;33m(\u001b[0m\u001b[1;34m'1'\u001b[0m\u001b[1;33m)\u001b[0m\u001b[1;33m\u001b[0m\u001b[1;33m\u001b[0m\u001b[0m\n\u001b[0;32m     22\u001b[0m \u001b[1;33m\u001b[0m\u001b[0m\n",
      "\u001b[1;32m<ipython-input-2-cacdb2fb6315>\u001b[0m in \u001b[0;36mcovid19\u001b[1;34m()\u001b[0m\n\u001b[0;32m      1\u001b[0m \u001b[1;32mdef\u001b[0m \u001b[0mcovid19\u001b[0m\u001b[1;33m(\u001b[0m\u001b[1;33m)\u001b[0m\u001b[1;33m:\u001b[0m\u001b[1;33m\u001b[0m\u001b[1;33m\u001b[0m\u001b[0m\n\u001b[1;32m----> 2\u001b[1;33m     \u001b[1;32mwith\u001b[0m \u001b[0mopen\u001b[0m\u001b[1;33m(\u001b[0m\u001b[1;34m'covid19_test.csv'\u001b[0m\u001b[1;33m,\u001b[0m \u001b[1;34m'r'\u001b[0m\u001b[1;33m)\u001b[0m \u001b[1;32mas\u001b[0m \u001b[0mcsv_file\u001b[0m\u001b[1;33m:\u001b[0m\u001b[1;33m\u001b[0m\u001b[1;33m\u001b[0m\u001b[0m\n\u001b[0m\u001b[0;32m      3\u001b[0m         \u001b[0mcsv_reader\u001b[0m \u001b[1;33m=\u001b[0m \u001b[0mcsv\u001b[0m\u001b[1;33m.\u001b[0m\u001b[0mreader\u001b[0m\u001b[1;33m(\u001b[0m\u001b[0mcsv_file\u001b[0m\u001b[1;33m)\u001b[0m\u001b[1;33m\u001b[0m\u001b[1;33m\u001b[0m\u001b[0m\n\u001b[0;32m      4\u001b[0m \u001b[1;33m\u001b[0m\u001b[0m\n\u001b[0;32m      5\u001b[0m         \u001b[0mcovid19_list\u001b[0m \u001b[1;33m=\u001b[0m \u001b[1;33m[\u001b[0m\u001b[1;33m]\u001b[0m\u001b[1;33m\u001b[0m\u001b[1;33m\u001b[0m\u001b[0m\n",
      "\u001b[1;31mFileNotFoundError\u001b[0m: [Errno 2] No such file or directory: 'covid19_test.csv'"
     ]
    }
   ],
   "source": [
    "print(\"에어봇 : 반갑습니다. 여객 안내를 담당하고 있는 '에어봇' 입니다.\")\n",
    "menu()"
   ]
  },
  {
   "cell_type": "code",
   "execution_count": null,
   "metadata": {},
   "outputs": [],
   "source": []
  }
 ],
 "metadata": {
  "kernelspec": {
   "display_name": "Python 3",
   "language": "python",
   "name": "python3"
  },
  "language_info": {
   "codemirror_mode": {
    "name": "ipython",
    "version": 3
   },
   "file_extension": ".py",
   "mimetype": "text/x-python",
   "name": "python",
   "nbconvert_exporter": "python",
   "pygments_lexer": "ipython3",
   "version": "3.8.5"
  }
 },
 "nbformat": 4,
 "nbformat_minor": 4
}
